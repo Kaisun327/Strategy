{
 "cells": [
  {
   "cell_type": "markdown",
   "id": "439f20af",
   "metadata": {},
   "source": [
    "#### In this project, I constructed a five-factor model (consisting of reversal, liquidity, scale, value, and growth) and utilized a long/short equity strategy to hedge against market exposures. Backtesting of the strategy in the Chinese stock market between 2010 and 2022 achieves an annualized excess return of 20.4% and a Sharpe ratio of 1.52.\n",
    "\n",
    "#### Low-attention stocks are identified across the entire market every six months , which may have relatively poor fundamental conditions but still contain individual stocks with very high growth potential. The long and short positions of the portfolio are rebalanced monthly and only low-attention stocks are selected for the portfolio.\n"
   ]
  },
  {
   "cell_type": "markdown",
   "id": "b67de1ad",
   "metadata": {},
   "source": [
    "### 1. The reversal factor (consisting of monthly reversal and price-volume correlation)\n",
    "\n",
    "(1) Monthly reversal: The difference in mean returns between days with the top 20% and bottom 20% stock price volatility over the past 20 trading days. Stock price volatility=[(daily high-daily low)/previous close]\n",
    "\n",
    "(2) Price-volume correlation:\n",
    "The Pearson correlation coefficient between stock turnover rate on day T and stock price on day T+1 over the past 20 trading days.\n",
    " \n",
    "The reversal factor helps to pick out stocks which have relatively low returns over the past month but are expected to perform well in the following month due to the short-term reversal anomaly. The time series data for both monthly reversal and price-volume correlation are standardized cross-sectionally and then added together to give the reversal factor. Both are negatively correlated with stock returns, hence the minus sign.<br>\n",
    "\n",
    "__The reversal factor = - (monthly reversal) - (price-volume correlation)__<br>\n",
    "__Information Coefficient: 9%__\n",
    "\n",
    "### 2. The liquidity factor (consisting of volatility, turnover rate, and price elasticity)\n",
    "\n",
    "(1) Volatility: The standard deviation of (daily high/daily low) over the past 20 trading days\n",
    "\n",
    "(2) Turnover rate: The standard deviation of stock turnover rate over the past 20 trading days\n",
    "\n",
    "(3) Price elasticity (the Amihud illiquidity measure): The mean value of (daily return/daily trading volume) over the past 20 trading days.\n",
    "\n",
    "Stocks with relatively low liquidity often tend to outperform more liquid ones due to a higher expected return as compensation for higher trading cost and risk. All three factors are standardized and then combined together to give the liquidity factor. Volatility and turnover rate are negatively correlated with stock returns, hence the minus sign.<br>\n",
    "\n",
    "__The liquidity factor = price elasticity - volatility - turnover rate__<br>\n",
    "__Information Coefficient: 12%__\n",
    "\n",
    "### 3. The size factor\n",
    "\n",
    "It is taken as the logarithm of the market capitalization. Small-cap stocks tend to outperform large-cap stocks.<br>\n",
    "\n",
    "__The size factor = - ln (market cap)__<br>\n",
    "__Information Coefficient: 5.7%__\n",
    "\n",
    "### 4. The value factor\n",
    "\n",
    "It is taken as the book-to-market ratio and is used to pick out undervalued stocks which are expected to increase in price.<br>\n",
    "\n",
    "__The value factor = book-to-market ratio__<br>\n",
    "__Information Coefficient: 7.5%__\n",
    "\n",
    "### 5. The growth factor\n",
    "\n",
    "All stocks are first assigned values of 1, 2 and 3 based on their revenue growth in the cross-section. The same procedure is then repeated based on the acceleration of revenue growth (taken as the difference in revenue growth). These two indices are added to give a final score ranging from 2 to 6, which reflects the growth speed of the individual company. The growth factor picks out stocks with high growth potential.\n",
    "\n",
    "__The growth factor = Revenue growth and acceleration score__<br>\n",
    "__Information Coefficient: 4.8%__"
   ]
  },
  {
   "cell_type": "markdown",
   "id": "b0e42ae1",
   "metadata": {},
   "source": [
    "### It is worth noting that all the code written for calculating the five factors are contained in other python files in this repository. They are not displayed here due to the large amount of time it takes to load and process the historical market data, which involves thousands of stocks and spans for 12 years."
   ]
  },
  {
   "cell_type": "code",
   "execution_count": 28,
   "id": "90d68083",
   "metadata": {},
   "outputs": [],
   "source": [
    "import numpy as np\n",
    "import matplotlib.pyplot as plt\n",
    "import pandas as pd\n",
    "import statsmodels.api as sm\n",
    "import pickle\n",
    "import alphalens"
   ]
  },
  {
   "cell_type": "code",
   "execution_count": 29,
   "id": "a2163b71",
   "metadata": {},
   "outputs": [],
   "source": [
    "# loading all the processed factors and other relevant data\n",
    "\n",
    "# open price of stocks at the start of every month from 2010.07 to 2022.07\n",
    "price=pd.read_excel('开盘价.xlsx',skiprows=1,index_col=0)\n",
    "\n",
    "# loading the five factors\n",
    "with open('反转因子.pkl', 'rb') as file:\n",
    "    reversal = pickle.load(file)\n",
    "\n",
    "with open('流动因子.pkl', 'rb') as file:\n",
    "    liquidity = pickle.load(file)\n",
    "\n",
    "with open('规模因子.pkl', 'rb') as file:\n",
    "    size = pickle.load(file)\n",
    "\n",
    "with open('价值因子.pkl', 'rb') as file:\n",
    "    value = pickle.load(file)\n",
    "\n",
    "with open('qpt因子.pkl', 'rb') as file:\n",
    "    growth = pickle.load(file)\n",
    "\n",
    "# Lists of selected low-attention stocks, refreshed twice a year\n",
    "with open('持仓.pkl', 'rb') as file:\n",
    "    low_att_stocks = pickle.load(file)\n",
    "\n",
    "# date index\n",
    "start_date = '2010-07-01'\n",
    "end_date = '2022-07-01'\n",
    "date = pd.date_range(start=start_date, end=end_date, freq='MS')"
   ]
  },
  {
   "cell_type": "code",
   "execution_count": 27,
   "id": "b24ffad9",
   "metadata": {},
   "outputs": [
    {
     "name": "stdout",
     "output_type": "stream",
     "text": [
      "24\n"
     ]
    }
   ],
   "source": [
    "# essential functions\n",
    "\n",
    "# standardization\n",
    "def stan(x):\n",
    "    mean=x.mean()\n",
    "    std=x.std()\n",
    "    return (x-mean)/std\n",
    "\n",
    "# calculating maximum drawdown\n",
    "def max_drawdown(returns):\n",
    "    cumulative_returns = (1 + returns).cumprod()\n",
    "    peak = cumulative_returns.cummax()\n",
    "    drawdown = (cumulative_returns / peak) - 1\n",
    "    return drawdown.min()\n",
    "\n",
    "# using the median absolute deviation (MAD) to identify outliers in the cross-section, \n",
    "# and cap them at 3 MADs away from the median\n",
    "from scipy.stats import median_abs_deviation as mad\n",
    "def madf(df,n):\n",
    "    median=np.median(df)\n",
    "    sd=mad(df)\n",
    "    up=median+n*sd\n",
    "    down=median-n*sd\n",
    "    return df.clip(down,up)\n",
    "\n",
    "# This function divides the stocks into quantiles based on the size of a certain factor, and then extracts\n",
    "# the lists of stocks in the top and bottom quantiles. These would be respectively stocks in the long and \n",
    "# short positions every month during rebalancing.\n",
    "\n"
   ]
  },
  {
   "cell_type": "code",
   "execution_count": 31,
   "id": "0a43ac61",
   "metadata": {},
   "outputs": [
    {
     "data": {
      "text/plain": [
       "Timestamp('2010-07-01 00:00:00', freq='MS')"
      ]
     },
     "execution_count": 31,
     "metadata": {},
     "output_type": "execute_result"
    }
   ],
   "source": [
    "d"
   ]
  },
  {
   "cell_type": "code",
   "execution_count": 13,
   "id": "e265b3a7",
   "metadata": {},
   "outputs": [
    {
     "name": "stdout",
     "output_type": "stream",
     "text": [
      "Index(['000001.SZ', '000002.SZ', '000004.SZ', '000006.SZ', '000008.SZ',\n",
      "       '000009.SZ', '000010.SZ', '000011.SZ', '000012.SZ', '000014.SZ',\n",
      "       ...\n",
      "       '601898.SH', '601899.SH', '601918.SH', '601919.SH', '601939.SH',\n",
      "       '601958.SH', '601988.SH', '601991.SH', '601998.SH', '601999.SH'],\n",
      "      dtype='object', length=1417)\n"
     ]
    }
   ],
   "source": []
  },
  {
   "cell_type": "code",
   "execution_count": 5,
   "id": "92b3bdea",
   "metadata": {},
   "outputs": [],
   "source": []
  },
  {
   "cell_type": "code",
   "execution_count": 6,
   "id": "8c683d74",
   "metadata": {},
   "outputs": [
    {
     "name": "stdout",
     "output_type": "stream",
     "text": [
      "2\n"
     ]
    }
   ],
   "source": []
  },
  {
   "cell_type": "code",
   "execution_count": null,
   "id": "726db8cc",
   "metadata": {},
   "outputs": [],
   "source": []
  }
 ],
 "metadata": {
  "kernelspec": {
   "display_name": "Python 3 (ipykernel)",
   "language": "python",
   "name": "python3"
  },
  "language_info": {
   "codemirror_mode": {
    "name": "ipython",
    "version": 3
   },
   "file_extension": ".py",
   "mimetype": "text/x-python",
   "name": "python",
   "nbconvert_exporter": "python",
   "pygments_lexer": "ipython3",
   "version": "3.9.12"
  }
 },
 "nbformat": 4,
 "nbformat_minor": 5
}
