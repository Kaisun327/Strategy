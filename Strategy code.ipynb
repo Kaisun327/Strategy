{
 "cells": [
  {
   "cell_type": "code",
   "execution_count": 1,
   "id": "a6784dcf",
   "metadata": {},
   "outputs": [],
   "source": [
    "import numpy as np\n",
    "import matplotlib.pyplot as plt\n",
    "import pandas as pd\n",
    "import statsmodels.api as sm\n",
    "import pickle"
   ]
  },
  {
   "cell_type": "code",
   "execution_count": null,
   "id": "566da38b",
   "metadata": {},
   "outputs": [],
   "source": [
    "#Construction of reversal factor\n",
    "openp=pd.read_excel('开盘价.xlsx',skiprows=1,index_col=0)\n",
    "\n",
    "with open('dailyreturn.pkl', 'rb') as file:\n",
    "    dailyreturn = pickle.load(file)\n",
    "\n",
    "amplitude=pd.read_excel('反转.xlsx',skiprows=1,index_col=0)"
   ]
  }
 ],
 "metadata": {
  "kernelspec": {
   "display_name": "Python 3 (ipykernel)",
   "language": "python",
   "name": "python3"
  },
  "language_info": {
   "codemirror_mode": {
    "name": "ipython",
    "version": 3
   },
   "file_extension": ".py",
   "mimetype": "text/x-python",
   "name": "python",
   "nbconvert_exporter": "python",
   "pygments_lexer": "ipython3",
   "version": "3.9.12"
  }
 },
 "nbformat": 4,
 "nbformat_minor": 5
}
